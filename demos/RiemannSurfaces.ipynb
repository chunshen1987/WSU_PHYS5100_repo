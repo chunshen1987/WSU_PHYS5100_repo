{
 "cells": [
  {
   "cell_type": "code",
   "execution_count": 1,
   "metadata": {},
   "outputs": [],
   "source": [
    "%matplotlib notebook\n",
    "\n",
    "from mpl_toolkits.mplot3d import Axes3D\n",
    "from matplotlib import cm\n",
    "import matplotlib.pyplot as plt\n",
    "import numpy as np"
   ]
  },
  {
   "cell_type": "markdown",
   "metadata": {},
   "source": [
    "## Plot the Riemann Surface for the Square Root Function $f(z) = \\sqrt{z}$"
   ]
  },
  {
   "cell_type": "code",
   "execution_count": 2,
   "metadata": {},
   "outputs": [
    {
     "data": {
      "application/vnd.jupyter.widget-view+json": {
       "model_id": "35e7f156400c4a60b68d3c560173272a",
       "version_major": 2,
       "version_minor": 0
      },
      "text/plain": [
       "Canvas(toolbar=Toolbar(toolitems=[('Home', 'Reset original view', 'home', 'home'), ('Back', 'Back to previous …"
      ]
     },
     "metadata": {},
     "output_type": "display_data"
    }
   ],
   "source": [
    "fig = plt.figure()\n",
    "ax = plt.axes(projection='3d')\n",
    "\n",
    "r = np.linspace(0., 1., 50)\n",
    "phi = np.linspace(0, 4.*np.pi, 100)\n",
    "\n",
    "R, Phi = np.meshgrid(r, phi)\n",
    "X, Y = R*np.cos(Phi), R*np.sin(Phi)\n",
    "\n",
    "Z = np.cos(Phi/2.)\n",
    "\n",
    "S = ax.plot_surface(X, Y, Z, facecolors=cm.jet(np.sqrt(R)))"
   ]
  },
  {
   "cell_type": "markdown",
   "metadata": {},
   "source": [
    "## Plot the Riemann Surface for the Cubic Root Function $f(z) = z^{1/3}$"
   ]
  },
  {
   "cell_type": "code",
   "execution_count": 3,
   "metadata": {},
   "outputs": [
    {
     "data": {
      "application/vnd.jupyter.widget-view+json": {
       "model_id": "b76189f897504079b397648011e3fa15",
       "version_major": 2,
       "version_minor": 0
      },
      "text/plain": [
       "Canvas(toolbar=Toolbar(toolitems=[('Home', 'Reset original view', 'home', 'home'), ('Back', 'Back to previous …"
      ]
     },
     "metadata": {},
     "output_type": "display_data"
    }
   ],
   "source": [
    "fig = plt.figure()\n",
    "ax = plt.axes(projection='3d')\n",
    "\n",
    "r = np.linspace(0., 1., 50)\n",
    "phi = np.linspace(0, 6*np.pi, 200)\n",
    "\n",
    "R, Phi = np.meshgrid(r, phi)\n",
    "X, Y = R*np.cos(Phi), R*np.sin(Phi)\n",
    "\n",
    "Z = np.cos(Phi/3.)\n",
    "\n",
    "S = ax.plot_surface(X, Y, Z, facecolors=cm.jet(R**(1/3.)))"
   ]
  },
  {
   "cell_type": "markdown",
   "metadata": {},
   "source": [
    "## Plot the Riemann Surface for the $f(z) = \\mathrm{ln}(z)$"
   ]
  },
  {
   "cell_type": "code",
   "execution_count": 4,
   "metadata": {},
   "outputs": [
    {
     "data": {
      "application/vnd.jupyter.widget-view+json": {
       "model_id": "4ed7a7ca023348d1a7f7fbc319782716",
       "version_major": 2,
       "version_minor": 0
      },
      "text/plain": [
       "Canvas(toolbar=Toolbar(toolitems=[('Home', 'Reset original view', 'home', 'home'), ('Back', 'Back to previous …"
      ]
     },
     "metadata": {},
     "output_type": "display_data"
    },
    {
     "data": {
      "text/plain": [
       "<mpl_toolkits.mplot3d.art3d.Poly3DCollection at 0x11d9aae50>"
      ]
     },
     "execution_count": 4,
     "metadata": {},
     "output_type": "execute_result"
    }
   ],
   "source": [
    "fig = plt.figure()\n",
    "ax = plt.axes(projection='3d')\n",
    "\n",
    "r = np.linspace(1e-3, 1., 50)\n",
    "phi = np.linspace(0, 6*np.pi, 500)\n",
    "\n",
    "R, Phi = np.meshgrid(r, phi)\n",
    "X, Y = R*np.cos(Phi), R*np.sin(Phi)\n",
    "\n",
    "Z = Phi  # plot the imagnary part\n",
    "ax.plot_surface(X, Y, Z, facecolors=cm.jet(-np.log(R)))  # color with the real part"
   ]
  },
  {
   "cell_type": "code",
   "execution_count": null,
   "metadata": {},
   "outputs": [],
   "source": []
  }
 ],
 "metadata": {
  "kernelspec": {
   "display_name": "Python 3",
   "language": "python",
   "name": "python3"
  },
  "language_info": {
   "codemirror_mode": {
    "name": "ipython",
    "version": 3
   },
   "file_extension": ".py",
   "mimetype": "text/x-python",
   "name": "python",
   "nbconvert_exporter": "python",
   "pygments_lexer": "ipython3",
   "version": "3.9.6"
  }
 },
 "nbformat": 4,
 "nbformat_minor": 4
}
