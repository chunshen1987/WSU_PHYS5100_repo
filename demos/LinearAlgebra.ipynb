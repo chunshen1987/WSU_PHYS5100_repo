{
 "cells": [
  {
   "cell_type": "code",
   "execution_count": 19,
   "id": "muslim-cylinder",
   "metadata": {},
   "outputs": [],
   "source": [
    "%matplotlib inline\n",
    "import numpy as np\n",
    "np.set_printoptions(precision=3)"
   ]
  },
  {
   "cell_type": "markdown",
   "id": "suited-creature",
   "metadata": {},
   "source": [
    "This notebook shows some basic linear algebra operations in python. We will use the linear algebra package in numpy. Detailed documentation can be found in this [link](https://numpy.org/doc/stable/reference/routines.linalg.html)."
   ]
  },
  {
   "cell_type": "markdown",
   "id": "geographic-exclusion",
   "metadata": {},
   "source": [
    "# Vector Operation"
   ]
  },
  {
   "cell_type": "markdown",
   "id": "limiting-diversity",
   "metadata": {},
   "source": [
    "## Dot product"
   ]
  },
  {
   "cell_type": "code",
   "execution_count": 20,
   "id": "cleared-compression",
   "metadata": {},
   "outputs": [
    {
     "name": "stdout",
     "output_type": "stream",
     "text": [
      "32\n"
     ]
    }
   ],
   "source": [
    "# real vectors\n",
    "a = [1, 2, 3]\n",
    "b = [4, 5, 6]\n",
    "print(np.dot(a, b))   # a dot b = 1*4 + 2*5 + 3*6"
   ]
  },
  {
   "cell_type": "code",
   "execution_count": 21,
   "id": "illegal-sacrifice",
   "metadata": {},
   "outputs": [
    {
     "name": "stdout",
     "output_type": "stream",
     "text": [
      "(14+6j)\n",
      "(14.25+0j)\n"
     ]
    }
   ],
   "source": [
    "# complex vectors\n",
    "a = [1 + 1j*2, 3 + 1j*0.5]\n",
    "b = [2, 4]\n",
    "print(np.dot(a, b))\n",
    "print(np.dot(a, np.conj(a)))    # conjugate np.conj(a)"
   ]
  },
  {
   "cell_type": "markdown",
   "id": "divided-capture",
   "metadata": {},
   "source": [
    "# Matrix"
   ]
  },
  {
   "cell_type": "markdown",
   "id": "freelance-railway",
   "metadata": {},
   "source": [
    "## Multiplication"
   ]
  },
  {
   "cell_type": "code",
   "execution_count": 22,
   "id": "horizontal-leone",
   "metadata": {},
   "outputs": [
    {
     "name": "stdout",
     "output_type": "stream",
     "text": [
      "AB = \n",
      " [[10  7]\n",
      " [10  4]]\n",
      "BA = \n",
      " [[ 6 13]\n",
      " [ 6  8]]\n"
     ]
    }
   ],
   "source": [
    "A = np.array([[1, 3],\n",
    "              [2, 1]])\n",
    "B = np.array([[4, 1],\n",
    "              [2, 2]])\n",
    "# AB != BA\n",
    "print(\"AB = \\n\", np.matmul(A, B))\n",
    "print(\"BA = \\n\", np.matmul(B, A))"
   ]
  },
  {
   "cell_type": "code",
   "execution_count": 23,
   "id": "expired-saturday",
   "metadata": {},
   "outputs": [
    {
     "name": "stdout",
     "output_type": "stream",
     "text": [
      "A:  (2, 3) , B:  (3, 2)\n",
      "AB = \n",
      " [[17 10]\n",
      " [24 10]]\n",
      "BA = \n",
      " [[ 6 13  6]\n",
      " [ 6  8  6]\n",
      " [13 24 13]]\n"
     ]
    }
   ],
   "source": [
    "A = np.array([[1, 3, 1],\n",
    "              [2, 1, 2]])\n",
    "B = np.array([[4, 1],\n",
    "              [2, 2],\n",
    "              [7, 3]])\n",
    "print(\"A: \", A.shape, \", B: \", B.shape)\n",
    "# AB != BA\n",
    "print(\"AB = \\n\", np.matmul(A, B))\n",
    "print(\"BA = \\n\", np.matmul(B, A))"
   ]
  },
  {
   "cell_type": "markdown",
   "id": "found-scout",
   "metadata": {},
   "source": [
    "## Determinant"
   ]
  },
  {
   "cell_type": "code",
   "execution_count": 25,
   "id": "recovered-driving",
   "metadata": {},
   "outputs": [
    {
     "name": "stdout",
     "output_type": "stream",
     "text": [
      "det(A) = -2.00\n"
     ]
    }
   ],
   "source": [
    "A = np.array([[1, 2],\n",
    "              [3, 4]])\n",
    "print(\"det(A) = {0:.2f}\".format(np.linalg.det(A)))"
   ]
  },
  {
   "cell_type": "code",
   "execution_count": 26,
   "id": "sexual-negative",
   "metadata": {},
   "outputs": [
    {
     "name": "stdout",
     "output_type": "stream",
     "text": [
      "det(A) = -12.00\n"
     ]
    }
   ],
   "source": [
    "A = np.array([[1, 2, 1],\n",
    "              [2, 1, 2],\n",
    "              [1, 3, 5]])\n",
    "print(\"det(A) = {0:.2f}\".format(np.linalg.det(A)))"
   ]
  },
  {
   "cell_type": "code",
   "execution_count": 27,
   "id": "configured-bosnia",
   "metadata": {},
   "outputs": [
    {
     "name": "stdout",
     "output_type": "stream",
     "text": [
      "A = \n",
      " [[0.309 0.162 0.568 0.928 0.005]\n",
      " [0.352 0.188 0.678 0.755 0.654]\n",
      " [0.595 0.173 0.505 0.64  0.466]\n",
      " [0.161 0.187 0.237 0.792 0.939]\n",
      " [0.027 0.281 0.369 0.292 0.429]]\n",
      "det(A) = 2.2206e-02\n"
     ]
    }
   ],
   "source": [
    "A = np.random.random([5, 5])   # A random 5x5 matrix\n",
    "print(\"A = \\n\", A)\n",
    "print(\"det(A) = {0:.4e}\".format(np.linalg.det(A)))"
   ]
  },
  {
   "cell_type": "markdown",
   "id": "activated-inside",
   "metadata": {},
   "source": [
    "## Inverse"
   ]
  },
  {
   "cell_type": "code",
   "execution_count": 28,
   "id": "collective-daily",
   "metadata": {},
   "outputs": [
    {
     "name": "stdout",
     "output_type": "stream",
     "text": [
      "A = \n",
      " [[1 2]\n",
      " [3 4]]\n",
      "A^{-1} = \n",
      " [[-2.   1. ]\n",
      " [ 1.5 -0.5]]\n",
      "AA^{-1} = \n",
      " [[1.000e+00 0.000e+00]\n",
      " [8.882e-16 1.000e+00]]\n"
     ]
    }
   ],
   "source": [
    "A = np.array([[1, 2],\n",
    "              [3, 4]])\n",
    "Ainv = np.linalg.inv(A)\n",
    "print(\"A = \\n\", A)\n",
    "print(\"A^{-1} = \\n\", Ainv)\n",
    "print(\"AA^{-1} = \\n\", np.matmul(A, Ainv))"
   ]
  },
  {
   "cell_type": "code",
   "execution_count": 29,
   "id": "general-earth",
   "metadata": {},
   "outputs": [
    {
     "name": "stdout",
     "output_type": "stream",
     "text": [
      "A = \n",
      " [[0.72  0.423 0.867 0.092]\n",
      " [0.596 0.672 0.989 0.173]\n",
      " [0.673 0.656 0.539 0.983]\n",
      " [0.158 0.438 0.899 0.797]]\n",
      "A^{-1} = \n",
      " [[ 2.154 -1.541  0.741 -0.827]\n",
      " [-3.576  3.909  0.654 -1.244]\n",
      " [ 1.077 -0.494 -1.     1.216]\n",
      " [ 0.321 -1.284  0.622  0.73 ]]\n",
      "AA^{-1} = \n",
      " [[ 1.000e+00 -1.006e-16  6.474e-17  1.515e-16]\n",
      " [ 1.094e-16  1.000e+00 -1.371e-16 -1.064e-16]\n",
      " [ 3.287e-17  2.071e-16  1.000e+00  1.029e-17]\n",
      " [ 4.667e-17  2.337e-16 -1.485e-16  1.000e+00]]\n"
     ]
    }
   ],
   "source": [
    "A = np.random.random([4, 4])  # A random 4x4 matrix\n",
    "Ainv = np.linalg.inv(A)\n",
    "print(\"A = \\n\", A)\n",
    "print(\"A^{-1} = \\n\", Ainv)\n",
    "print(\"AA^{-1} = \\n\", np.matmul(A, Ainv))"
   ]
  },
  {
   "cell_type": "markdown",
   "id": "liquid-accessory",
   "metadata": {},
   "source": [
    "## Eigenvalue and Eigenvector"
   ]
  },
  {
   "cell_type": "code",
   "execution_count": 38,
   "id": "obvious-burke",
   "metadata": {},
   "outputs": [
    {
     "name": "stdout",
     "output_type": "stream",
     "text": [
      "A = \n",
      " [[ 1 -1]\n",
      " [ 1  1]]\n",
      "eigenvalue 0: 1.000+1.000j, eigenvector: [0.707+0.j    0.   -0.707j]\n",
      "eigenvalue 1: 1.000-1.000j, eigenvector: [0.707-0.j    0.   +0.707j]\n"
     ]
    }
   ],
   "source": [
    "A = np.array([[1, -1],\n",
    "              [1, 1]])\n",
    "w, v = np.linalg.eig(A)\n",
    "print(\"A = \\n\", A)\n",
    "for i in range(len(w)):\n",
    "    print(\"eigenvalue {0:d}: {1:.3f}, eigenvector: {2}\".format(i, w[i], v[:, i]))"
   ]
  },
  {
   "cell_type": "code",
   "execution_count": 39,
   "id": "initial-thousand",
   "metadata": {},
   "outputs": [
    {
     "name": "stdout",
     "output_type": "stream",
     "text": [
      "A = \n",
      " [[0.934 0.37  0.013 0.718]\n",
      " [0.615 0.53  0.977 0.865]\n",
      " [0.441 0.937 0.154 0.779]\n",
      " [0.033 0.341 0.619 0.934]]\n",
      "eigenvalue 0: 2.271+0.000j, eigenvector: [-0.401+0.j -0.635+0.j -0.516+0.j -0.411+0.j]\n",
      "eigenvalue 1: 0.467+0.192j, eigenvector: [-0.513-0.335j -0.38 +0.152j -0.233+0.127j  0.622+0.j   ]\n",
      "eigenvalue 2: 0.467-0.192j, eigenvector: [-0.513+0.335j -0.38 -0.152j -0.233-0.127j  0.622-0.j   ]\n",
      "eigenvalue 3: -0.654+0.000j, eigenvector: [-0.21 +0.j  0.606+0.j -0.749+0.j  0.166+0.j]\n"
     ]
    }
   ],
   "source": [
    "A = np.random.random([4, 4])  # A random 4x4 matrix\n",
    "w, v = np.linalg.eig(A)\n",
    "print(\"A = \\n\", A)\n",
    "for i in range(len(w)):\n",
    "    print(\"eigenvalue {0:d}: {1:.3f}, eigenvector: {2}\".format(i, w[i], v[:, i]))"
   ]
  },
  {
   "cell_type": "markdown",
   "id": "shaped-organizer",
   "metadata": {},
   "source": [
    "### Degeneracy"
   ]
  },
  {
   "cell_type": "code",
   "execution_count": 42,
   "id": "natural-vertical",
   "metadata": {},
   "outputs": [
    {
     "name": "stdout",
     "output_type": "stream",
     "text": [
      "A = \n",
      " [[1 0 1]\n",
      " [0 2 0]\n",
      " [1 0 1]]\n",
      "eigenvalue 0: 2.000, eigenvector: [0.707 0.    0.707]\n",
      "eigenvalue 1: 0.000, eigenvector: [-0.707  0.     0.707]\n",
      "eigenvalue 2: 2.000, eigenvector: [0. 1. 0.]\n"
     ]
    }
   ],
   "source": [
    "# The eigenvectors for the degenerate eigenvalue are orthogonal to each other\n",
    "A = np.array([[1, 0, 1],\n",
    "              [0, 2, 0],\n",
    "              [1, 0, 1]])\n",
    "w, v = np.linalg.eig(A)\n",
    "print(\"A = \\n\", A)\n",
    "for i in range(len(w)):\n",
    "    print(\"eigenvalue {0:d}: {1:.3f}, eigenvector: {2}\".format(i, w[i], v[:, i]))"
   ]
  },
  {
   "cell_type": "code",
   "execution_count": 43,
   "id": "political-given",
   "metadata": {},
   "outputs": [
    {
     "name": "stdout",
     "output_type": "stream",
     "text": [
      "A = \n",
      " [[1 1]\n",
      " [0 1]]\n",
      "eigenvalue 0: 1.000, eigenvector: [1. 0.]\n",
      "eigenvalue 1: 1.000, eigenvector: [-1.00e+00  2.22e-16]\n"
     ]
    }
   ],
   "source": [
    "# Matrix A is a defective\n",
    "# The returned two eigen vectors are linear dependent of each other\n",
    "A = np.array([[1, 1],\n",
    "              [0, 1]])\n",
    "w, v = np.linalg.eig(A)\n",
    "print(\"A = \\n\", A)\n",
    "for i in range(len(w)):\n",
    "    print(\"eigenvalue {0:d}: {1:.3f}, eigenvector: {2}\".format(i, w[i], v[:, i]))"
   ]
  },
  {
   "cell_type": "code",
   "execution_count": null,
   "id": "earned-worth",
   "metadata": {},
   "outputs": [],
   "source": []
  }
 ],
 "metadata": {
  "kernelspec": {
   "display_name": "Python 3",
   "language": "python",
   "name": "python3"
  },
  "language_info": {
   "codemirror_mode": {
    "name": "ipython",
    "version": 3
   },
   "file_extension": ".py",
   "mimetype": "text/x-python",
   "name": "python",
   "nbconvert_exporter": "python",
   "pygments_lexer": "ipython3",
   "version": "3.9.6"
  }
 },
 "nbformat": 4,
 "nbformat_minor": 5
}
