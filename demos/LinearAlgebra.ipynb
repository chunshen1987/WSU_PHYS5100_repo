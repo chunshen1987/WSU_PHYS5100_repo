{
 "cells": [
  {
   "cell_type": "code",
   "execution_count": 2,
   "id": "muslim-cylinder",
   "metadata": {},
   "outputs": [],
   "source": [
    "%matplotlib inline\n",
    "import numpy as np"
   ]
  },
  {
   "cell_type": "markdown",
   "id": "suited-creature",
   "metadata": {},
   "source": [
    "This notebook shows some basic linear algebra operations in python. We will use the linear algebra package in numpy. Detailed documentation can be found in this [link](https://numpy.org/doc/stable/reference/routines.linalg.html)."
   ]
  },
  {
   "cell_type": "markdown",
   "id": "geographic-exclusion",
   "metadata": {},
   "source": [
    "# Vector Operation"
   ]
  },
  {
   "cell_type": "markdown",
   "id": "limiting-diversity",
   "metadata": {},
   "source": [
    "## Dot product"
   ]
  },
  {
   "cell_type": "code",
   "execution_count": 4,
   "id": "cleared-compression",
   "metadata": {},
   "outputs": [
    {
     "name": "stdout",
     "output_type": "stream",
     "text": [
      "32\n"
     ]
    }
   ],
   "source": [
    "# real vectors\n",
    "a = [1, 2, 3]\n",
    "b = [4, 5, 6]\n",
    "print(np.dot(a, b))   # a dot b = 1*4 + 2*5 + 3*6"
   ]
  },
  {
   "cell_type": "code",
   "execution_count": 12,
   "id": "illegal-sacrifice",
   "metadata": {},
   "outputs": [
    {
     "name": "stdout",
     "output_type": "stream",
     "text": [
      "(14+6j)\n",
      "(14.25+0j)\n"
     ]
    }
   ],
   "source": [
    "# complex vectors\n",
    "a = [1 + 1j*2, 3 + 1j*0.5]\n",
    "b = [2, 4]\n",
    "print(np.dot(a, b))\n",
    "print(np.dot(a, np.conj(a)))    # conjugate np.conj(a)"
   ]
  },
  {
   "cell_type": "markdown",
   "id": "divided-capture",
   "metadata": {},
   "source": [
    "# Matrix"
   ]
  },
  {
   "cell_type": "markdown",
   "id": "freelance-railway",
   "metadata": {},
   "source": [
    "## Multiplication"
   ]
  },
  {
   "cell_type": "code",
   "execution_count": 40,
   "id": "horizontal-leone",
   "metadata": {},
   "outputs": [
    {
     "name": "stdout",
     "output_type": "stream",
     "text": [
      "AB = \n",
      " [[10  7]\n",
      " [10  4]]\n",
      "BA = \n",
      " [[ 6 13]\n",
      " [ 6  8]]\n"
     ]
    }
   ],
   "source": [
    "A = np.array([[1, 3],\n",
    "              [2, 1]])\n",
    "B = np.array([[4, 1],\n",
    "              [2, 2]])\n",
    "# AB != BA\n",
    "print(\"AB = \\n\", np.matmul(A, B))\n",
    "print(\"BA = \\n\", np.matmul(B, A))"
   ]
  },
  {
   "cell_type": "code",
   "execution_count": 7,
   "id": "expired-saturday",
   "metadata": {},
   "outputs": [
    {
     "name": "stdout",
     "output_type": "stream",
     "text": [
      "A:  (2, 3) , B:  (3, 2)\n",
      "AB = \n",
      " [[17 10]\n",
      " [24 10]]\n",
      "BA = \n",
      " [[ 6 13  6]\n",
      " [ 6  8  6]\n",
      " [13 24 13]]\n"
     ]
    }
   ],
   "source": [
    "A = np.array([[1, 3, 1],\n",
    "              [2, 1, 2]])\n",
    "B = np.array([[4, 1],\n",
    "              [2, 2],\n",
    "              [7, 3]])\n",
    "print(\"A: \", A.shape, \", B: \", B.shape)\n",
    "# AB != BA\n",
    "print(\"AB = \\n\", np.matmul(A, B))\n",
    "print(\"BA = \\n\", np.matmul(B, A))"
   ]
  },
  {
   "cell_type": "markdown",
   "id": "found-scout",
   "metadata": {},
   "source": [
    "## Determinant"
   ]
  },
  {
   "cell_type": "code",
   "execution_count": 34,
   "id": "recovered-driving",
   "metadata": {},
   "outputs": [
    {
     "name": "stdout",
     "output_type": "stream",
     "text": [
      "det(A) = -2.0000\n"
     ]
    }
   ],
   "source": [
    "A = np.array([[1, 2],\n",
    "              [3, 4]])\n",
    "print(\"det(A) = {0:.4f}\".format(np.linalg.det(A)))"
   ]
  },
  {
   "cell_type": "code",
   "execution_count": 27,
   "id": "sexual-negative",
   "metadata": {},
   "outputs": [
    {
     "name": "stdout",
     "output_type": "stream",
     "text": [
      "det(A) = -12.0000\n"
     ]
    }
   ],
   "source": [
    "A = np.array([[1, 2, 1],\n",
    "              [2, 1, 2],\n",
    "              [1, 3, 5]])\n",
    "print(\"det(A) = {0:.4f}\".format(np.linalg.det(A)))"
   ]
  },
  {
   "cell_type": "code",
   "execution_count": 39,
   "id": "configured-bosnia",
   "metadata": {},
   "outputs": [
    {
     "name": "stdout",
     "output_type": "stream",
     "text": [
      "A = \n",
      " [[0.66256845 0.60613486 0.47901177 0.80617231 0.96572358]\n",
      " [0.19805615 0.24488297 0.72388203 0.71806928 0.86286768]\n",
      " [0.2035298  0.59217327 0.53214529 0.50248273 0.51221843]\n",
      " [0.88706332 0.30856039 0.03144379 0.35329682 0.19947292]\n",
      " [0.81130369 0.91927654 0.95341325 0.17231004 0.17855831]]\n",
      "det(A) = 5.0781e-02\n"
     ]
    }
   ],
   "source": [
    "A = np.random.random([5, 5])   # A random 5x5 matrix\n",
    "print(\"A = \\n\", A)\n",
    "print(\"det(A) = {0:.4e}\".format(np.linalg.det(A)))"
   ]
  },
  {
   "cell_type": "markdown",
   "id": "activated-inside",
   "metadata": {},
   "source": [
    "## Inverse"
   ]
  },
  {
   "cell_type": "code",
   "execution_count": 47,
   "id": "collective-daily",
   "metadata": {},
   "outputs": [
    {
     "name": "stdout",
     "output_type": "stream",
     "text": [
      "A = \n",
      " [[1 2]\n",
      " [3 4]]\n",
      "A^{-1} = \n",
      " [[-2.   1. ]\n",
      " [ 1.5 -0.5]]\n",
      "AA^{-1} = \n",
      " [[1.0000000e+00 0.0000000e+00]\n",
      " [8.8817842e-16 1.0000000e+00]]\n"
     ]
    }
   ],
   "source": [
    "A = np.array([[1, 2],\n",
    "              [3, 4]])\n",
    "Ainv = np.linalg.inv(A)\n",
    "print(\"A = \\n\", A)\n",
    "print(\"A^{-1} = \\n\", Ainv)\n",
    "print(\"AA^{-1} = \\n\", np.matmul(A, Ainv))"
   ]
  },
  {
   "cell_type": "code",
   "execution_count": 52,
   "id": "general-earth",
   "metadata": {},
   "outputs": [
    {
     "name": "stdout",
     "output_type": "stream",
     "text": [
      "A = \n",
      " [[0.51569824 0.97295332 0.92175356 0.90322376]\n",
      " [0.49612086 0.39725633 0.56649612 0.75596808]\n",
      " [0.94554264 0.34914985 0.41996602 0.24895468]\n",
      " [0.11941324 0.01001992 0.67117948 0.81664216]]\n",
      "A^{-1} = \n",
      " [[-0.80212643  1.13482166  0.95711546 -0.45511693]\n",
      " [ 1.03955188  0.62978167 -0.705754   -1.51760722]\n",
      " [ 1.71558216 -5.80283887  1.73715634  2.94465963]\n",
      " [-1.30546194  4.59555418 -1.55902354 -1.11045189]]\n",
      "AA^{-1} = \n",
      " [[ 1.00000000e+00  2.79736854e-17 -5.78355408e-17 -4.20489116e-16]\n",
      " [ 1.58799451e-16  1.00000000e+00 -4.41103901e-17 -8.98327183e-17]\n",
      " [ 1.18724884e-16  8.96674783e-17  1.00000000e+00  1.97853978e-16]\n",
      " [ 7.56426313e-18 -2.83768799e-16 -1.00773357e-16  1.00000000e+00]]\n"
     ]
    }
   ],
   "source": [
    "A = np.random.random([4, 4])  # A random 4x4 matrix\n",
    "Ainv = np.linalg.inv(A)\n",
    "print(\"A = \\n\", A)\n",
    "print(\"A^{-1} = \\n\", Ainv)\n",
    "print(\"AA^{-1} = \\n\", np.matmul(A, Ainv))"
   ]
  },
  {
   "cell_type": "code",
   "execution_count": null,
   "id": "blind-disposal",
   "metadata": {},
   "outputs": [],
   "source": []
  }
 ],
 "metadata": {
  "kernelspec": {
   "display_name": "Python 3",
   "language": "python",
   "name": "python3"
  },
  "language_info": {
   "codemirror_mode": {
    "name": "ipython",
    "version": 3
   },
   "file_extension": ".py",
   "mimetype": "text/x-python",
   "name": "python",
   "nbconvert_exporter": "python",
   "pygments_lexer": "ipython3",
   "version": "3.9.6"
  }
 },
 "nbformat": 4,
 "nbformat_minor": 5
}
